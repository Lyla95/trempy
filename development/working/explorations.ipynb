{
 "cells": [
  {
   "cell_type": "markdown",
   "metadata": {},
   "source": [
    "# Explorations of dataset\n",
    "\n",
    "This notebook allows for quick exploration of the observed dataset."
   ]
  },
  {
   "cell_type": "code",
   "execution_count": 1,
   "metadata": {},
   "outputs": [],
   "source": [
    "import sys\n",
    "import numpy as np\n",
    "from statsmodels.tools.eval_measures import rmse as get_rmse\n",
    "sys.path.insert(0, '/home/peisenha/intertemporal_altruism/trempy')\n",
    "from trempy.shared.shared_auxiliary import get_optimal_compensations\n",
    "from scipy.optimize import minimize\n",
    "from functools import partial\n",
    "np.set_printoptions(precision=4)\n",
    "questions = range(1, 16)"
   ]
  },
  {
   "cell_type": "code",
   "execution_count": 7,
   "metadata": {},
   "outputs": [
    {
     "name": "stdout",
     "output_type": "stream",
     "text": [
      "[1.249 1.249]\n",
      "[2.498 2.498]\n",
      "[4.996 4.996]\n",
      "[1.249 1.249]\n",
      "[2.498 2.498]\n",
      "[4.996 4.996]\n",
      "[0.33 0.33]\n",
      "[0.6599 0.6599]\n",
      "[1.3198 1.3198]\n",
      "[0.746 0.746]\n",
      "[2.0271 2.0271]\n",
      "[0.4578 0.4578]\n",
      "[0.746 0.746]\n",
      "[2.0271 2.0271]\n",
      "[0.4578 0.4578]\n",
      "[0.5 0.8] 8.500383960160769e-14\n"
     ]
    }
   ],
   "source": [
    "beta = 0.5\n",
    "\n",
    "alpha, eta = 0.5, 0.8\n",
    "\n",
    "m_optimal_obs = get_optimal_compensations(questions, alpha, 0.5, eta)\n",
    "m_optimal_obs = np.array([m_optimal_obs[q] for q in questions])\n",
    "\n",
    "\n",
    "def criterion_function(questions, m_optimal_obs, paras):\n",
    "    \"\"\"This will be the criterion function.\"\"\"\n",
    "    alpha, eta = paras\n",
    "       \n",
    "    m_optimal_cand = get_optimal_compensations(questions, alpha, 0.5, eta)\n",
    "    m_optimal_cand = np.array([m_optimal_cand[q] for q in questions])\n",
    "    stat = np.mean((m_optimal_obs - m_optimal_cand) ** 2)\n",
    "\n",
    "    return stat\n",
    "\n",
    "start_paras = [0.5, 0.5]\n",
    "bounds = [[0.01, 0.99], [0.01, 0.99]]\n",
    "\n",
    "func = partial(criterion_function, questions, m_optimal_obs)\n",
    "opt = minimize(func, start_paras, method='L-BFGS-B', bounds=bounds)\n",
    "\n",
    "alpha, eta = opt['x']\n",
    "\n",
    "m_optimal_finish = get_optimal_compensations(questions, alpha, 0.5, eta)\n",
    "m_optimal_finish = np.array([m_optimal_finish[q] for q in questions])\n",
    "    \n",
    "for i in range(15):\n",
    "    \n",
    "    print(np.array([m_optimal_obs[i], m_optimal_finish[i]]))\n",
    "\n",
    "print(opt['x'], opt['fun'])"
   ]
  },
  {
   "cell_type": "code",
   "execution_count": null,
   "metadata": {},
   "outputs": [],
   "source": []
  }
 ],
 "metadata": {
  "kernelspec": {
   "display_name": "Python 3",
   "language": "python",
   "name": "python3"
  },
  "language_info": {
   "codemirror_mode": {
    "name": "ipython",
    "version": 3
   },
   "file_extension": ".py",
   "mimetype": "text/x-python",
   "name": "python",
   "nbconvert_exporter": "python",
   "pygments_lexer": "ipython3",
   "version": "3.6.4"
  }
 },
 "nbformat": 4,
 "nbformat_minor": 2
}
